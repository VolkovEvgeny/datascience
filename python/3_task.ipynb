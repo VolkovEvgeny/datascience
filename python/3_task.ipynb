{
 "cells": [
  {
   "cell_type": "markdown",
   "id": "657be689",
   "metadata": {},
   "source": [
    "# Самостоятельное задание #3\n",
    "\n",
    "\n",
    "### Задание 1\n",
    "\n",
    "Допишите функцию, которая принимает массив из 10 чисел и возвращает их сумму."
   ]
  },
  {
   "cell_type": "code",
   "execution_count": null,
   "id": "18ffcbab",
   "metadata": {},
   "outputs": [],
   "source": [
    "def sum_mass(a):\n",
    "    return sum(a)\n",
    "print(sum_mass([1, 1, 1, 1, 1, 1, 1, 1, 1, 0]))"
   ]
  },
  {
   "cell_type": "markdown",
   "id": "eb78afc0",
   "metadata": {},
   "source": [
    "\n",
    "### Задание 2\n",
    "\n",
    "Допишите функцию, которая принимает массив чисел и возвращает количество чисел равных нулю."
   ]
  },
  {
   "cell_type": "code",
   "execution_count": null,
   "id": "7e8fe536",
   "metadata": {},
   "outputs": [],
   "source": [
    "def amount_zero(a):\n",
    "    res=0\n",
    "    for i in range(0, len(a)):\n",
    "        if a[i]==0:\n",
    "            res+=1\n",
    "    return res\n",
    "print(amount_zero([1, 1, 1, 1, 1, 1, 0, 1, 1, 0]))"
   ]
  },
  {
   "cell_type": "markdown",
   "id": "570d5a26",
   "metadata": {},
   "source": [
    "\n",
    "### Задание 3\n",
    "\n",
    "Напишите программу, в которой задается  натуральное число n и выводится лестница из n ступенек, i-я ступенька должна состоять из чисел от 1 до i без пробелов."
   ]
  },
  {
   "cell_type": "code",
   "execution_count": null,
   "id": "69fd0501",
   "metadata": {},
   "outputs": [],
   "source": [
    "n=5\n",
    "for i in range(1, n+1):\n",
    "    for j in range(1, i+1):\n",
    "        print(j, end=\"\")\n",
    "    print()\n"
   ]
  },
  {
   "cell_type": "markdown",
   "id": "b6ef1c44",
   "metadata": {},
   "source": [
    "\n",
    "### Задание 4\n",
    "\n",
    "Напишите программу, в которой задается натуральное число n и выводится пирамида из n ступенек, i-я ступень должна состоять из чисел от 1 до i и обратно без пробелов."
   ]
  },
  {
   "cell_type": "code",
   "execution_count": null,
   "id": "6b038f87",
   "metadata": {},
   "outputs": [],
   "source": [
    "n=5\n",
    "print(\" \"*(n-1), end=\"\")\n",
    "print(1)\n",
    "for i in range(1, n):\n",
    "    for j in range(1, n-i):\n",
    "        print(\" \", end=\"\")\n",
    "    for j in range(1, i+1):\n",
    "        print(j, end=\"\")\n",
    "    for j in range(i+1, 0, -1):\n",
    "        print(j, end=\"\")\n",
    "    print()"
   ]
  },
  {
   "cell_type": "markdown",
   "id": "b4552ef5",
   "metadata": {},
   "source": [
    "\n",
    "### Задание 5\n",
    "\n",
    "Напишите программу, в которой задается натуральное число n и выводится ромб из `n*2-1` ступенек, i-я ступень должна состоять из чисел от 1 до i и обратно без пробелов."
   ]
  },
  {
   "cell_type": "code",
   "execution_count": null,
   "id": "5eaae897",
   "metadata": {},
   "outputs": [],
   "source": [
    "n=5\n",
    "print(\" \"*(n-1), end=\"\")\n",
    "print(1)\n",
    "for i in range(1, n):\n",
    "    for j in range(1, n-i):\n",
    "        print(\" \", end=\"\")\n",
    "    for j in range(1, i+1):\n",
    "        print(j, end=\"\")\n",
    "    for j in range(i+1, 0, -1):\n",
    "        print(j, end=\"\")\n",
    "    print()\n",
    "for i in range(n, 1, -1):\n",
    "    for j in range(n-i+2, 1, -1):\n",
    "        print(\" \", end=\"\")\n",
    "    for j in range (1, i):\n",
    "        print(j, end=\"\")\n",
    "    for j in range (i-2, 0, -1):\n",
    "        print(j, end=\"\")\n",
    "    print()"
   ]
  }
 ],
 "metadata": {
  "kernelspec": {
   "display_name": "Python 3",
   "language": "python",
   "name": "python3"
  },
  "language_info": {
   "codemirror_mode": {
    "name": "ipython",
    "version": 3
   },
   "file_extension": ".py",
   "mimetype": "text/x-python",
   "name": "python",
   "nbconvert_exporter": "python",
   "pygments_lexer": "ipython3",
   "version": "3.9.7"
  }
 },
 "nbformat": 4,
 "nbformat_minor": 5
}
