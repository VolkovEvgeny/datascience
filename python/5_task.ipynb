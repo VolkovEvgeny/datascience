{
 "cells": [
  {
   "cell_type": "markdown",
   "id": "85755de8",
   "metadata": {},
   "source": [
    "# Самостоятельное задание #5\n",
    "\n",
    "\n",
    "### Задание 1\n",
    "\n",
    "Допишите функцию, которая принимает список, выбирает из него все элементы с четным индексом и возвращает их в виде списка."
   ]
  },
  {
   "cell_type": "code",
   "execution_count": 1,
   "id": "6ef6d9b3",
   "metadata": {},
   "outputs": [],
   "source": [
    "def func(a):\n",
    "    return list(a[::2])\n",
    "print(func([1, 7, 5, 9, 4]))"
   ]
  },
  {
   "cell_type": "markdown",
   "id": "443974c9",
   "metadata": {},
   "source": [
    "### Задание 2\n",
    "\n",
    "Допишите функцию, которая принимает список, выбирает из него все элементы, которые больше предыдущего и возвращает их в виде списка.\n"
   ]
  },
  {
   "cell_type": "code",
   "execution_count": 2,
   "id": "3a8cf925",
   "metadata": {},
   "outputs": [],
   "source": [
    "def func(a):\n",
    "    list_1=[]\n",
    "    for i in range(1, len(a)):\n",
    "        if a[i]>a[i-1]:\n",
    "            list_1.append(a[i])\n",
    "    return list_1\n",
    "print(func([1, 7, 5, 9, 4]))"
   ]
  },
  {
   "cell_type": "markdown",
   "id": "34524ede",
   "metadata": {},
   "source": [
    "### Задание 3\n",
    "\n",
    "Допишите функцию, которая принимает список, меняет местами наибольший и наименьший элементы и возвращает этот список."
   ]
  },
  {
   "cell_type": "code",
   "execution_count": 3,
   "id": "34d2beae",
   "metadata": {},
   "outputs": [],
   "source": [
    "def func(a):\n",
    "    maxx = max(a)\n",
    "    minn = min(a)\n",
    "    for i in range(len(a)):\n",
    "        if a[i]==max(a):\n",
    "            maxx_ind=i\n",
    "        if a[i]==min(a):\n",
    "            minn_ind=i\n",
    "    a[maxx_ind]=minn\n",
    "    a[minn_ind]=maxx\n",
    "    \n",
    "    return a\n",
    "print(func([1, 7, 5, 9, 4]))"
   ]
  }
 ],
 "metadata": {
  "kernelspec": {
   "display_name": "Python 3",
   "language": "python",
   "name": "python3"
  },
  "language_info": {
   "codemirror_mode": {
    "name": "ipython",
    "version": 3
   },
   "file_extension": ".py",
   "mimetype": "text/x-python",
   "name": "python",
   "nbconvert_exporter": "python",
   "pygments_lexer": "ipython3",
   "version": "3.9.7"
  }
 },
 "nbformat": 4,
 "nbformat_minor": 5
}
